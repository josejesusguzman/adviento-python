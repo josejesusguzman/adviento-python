{
 "cells": [
  {
   "cell_type": "markdown",
   "metadata": {},
   "source": [
    "# Compresiones de listas\n",
    "## Día 3\n",
    "\n",
    "Un tip valioso para programar mejor en Python es hacer uso eficiente de las **comprensiones de lista (list comprehensions)**. Las comprensiones de lista son una forma concisa y legible de crear listas, aprovechando la sintaxis de Python para expresar la creación de listas a partir de otros iterables de una manera más clara y eficiente que usar bucles tradicionales.\n",
    "\n",
    "Las comprensiones de lista no solo mejoran la legibilidad del código, sino que también son generalmente más rápidas porque están optimizadas internamente en Python. Además, reducen la cantidad de líneas de código necesarias para realizar una tarea, lo que ayuda a mantener tu código limpio y mantenible."
   ]
  },
  {
   "cell_type": "markdown",
   "metadata": {},
   "source": [
    "Creamos una lista en la que nos devuelva todos los cuadrados de los números de 0 al 9.\n",
    "Es decir, 0\\*0=0, 1\\*1=1, 2*2=4..."
   ]
  },
  {
   "cell_type": "code",
   "execution_count": 5,
   "metadata": {},
   "outputs": [],
   "source": [
    "cuadrados_for = []\n",
    "for i in range(10):\n",
    "    cuadrados_for.append(i ** 2)"
   ]
  },
  {
   "cell_type": "markdown",
   "metadata": {},
   "source": [
    "Si imprimimos la lista el resultado es: ```[0, 1, 4, 9, 16, 25, 36, 49, 64, 81]```"
   ]
  },
  {
   "cell_type": "code",
   "execution_count": 6,
   "metadata": {},
   "outputs": [
    {
     "name": "stdout",
     "output_type": "stream",
     "text": [
      "[0, 1, 4, 9, 16, 25, 36, 49, 64, 81]\n"
     ]
    }
   ],
   "source": [
    "print(cuadrados_for)"
   ]
  },
  {
   "cell_type": "code",
   "execution_count": 7,
   "metadata": {},
   "outputs": [],
   "source": [
    "# Podemos lograr exactamente el mismo resultado con una sola linea de código\n",
    "cuadrados_comprension = [i ** 2 for i in range(10)]"
   ]
  },
  {
   "cell_type": "markdown",
   "metadata": {},
   "source": [
    "Si imprimimos la nueva lista el resultado es el mismo: ```[0, 1, 4, 9, 16, 25, 36, 49, 64, 81]```"
   ]
  },
  {
   "cell_type": "code",
   "execution_count": 8,
   "metadata": {},
   "outputs": [
    {
     "name": "stdout",
     "output_type": "stream",
     "text": [
      "[0, 1, 4, 9, 16, 25, 36, 49, 64, 81]\n"
     ]
    }
   ],
   "source": [
    "print(cuadrados_comprension)"
   ]
  },
  {
   "cell_type": "markdown",
   "metadata": {},
   "source": [
    "**De hecho hay un TikTok que lo explica**\n",
    "[➡️DALE CLIC AQUÍ PARA VERLO⬅️](https://vm.tiktok.com/ZM6N8fWqL/)\n",
    "\n",
    "| [⬅️ Día 2 ](/dias/dia2-lista_recursiva.md) | Con 💖 por [@brujeriatech](https://www.instagram.com/brujeriatech/) | [Día 4 ➡️](/dias/dia4-itertools.md)|\n",
    "|:------------- |:---------------:| -------------:|"
   ]
  }
 ],
 "metadata": {
  "kernelspec": {
   "display_name": "Python 3",
   "language": "python",
   "name": "python3"
  },
  "language_info": {
   "codemirror_mode": {
    "name": "ipython",
    "version": 3
   },
   "file_extension": ".py",
   "mimetype": "text/x-python",
   "name": "python",
   "nbconvert_exporter": "python",
   "pygments_lexer": "ipython3",
   "version": "3.11.2"
  }
 },
 "nbformat": 4,
 "nbformat_minor": 2
}
