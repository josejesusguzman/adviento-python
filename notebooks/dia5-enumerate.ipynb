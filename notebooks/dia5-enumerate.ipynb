{
 "cells": [
  {
   "cell_type": "markdown",
   "metadata": {},
   "source": [
    "# La función enumerate\n",
    "## Día 5\n",
    "\n",
    "Un tip valioso para mejorar la programación en Python con las bibliotecas estándar y la sintaxis estándar es utilizar la función ```enumerate()``` en bucles ```for```. Esta función agrega un contador a un iterable y devuelve este contador junto con el valor del iterable. Es especialmente útil cuando necesitas tanto el índice como el valor de los elementos en un iterable, como una lista.\n",
    "\n",
    "Usar ```enumerate()``` en lugar de manipular manualmente los índices del bucle no solo hace que el código sea más limpio y legible, sino que también reduce el riesgo de errores, como los que pueden ocurrir al actualizar manualmente los índices."
   ]
  },
  {
   "cell_type": "code",
   "execution_count": 1,
   "metadata": {},
   "outputs": [],
   "source": [
    "# Definimos una lista de elementos\n",
    "frutas = [\"manzana\", \"platano\", \"cereza\", \"durazno\"]"
   ]
  },
  {
   "cell_type": "code",
   "execution_count": 2,
   "metadata": {},
   "outputs": [
    {
     "name": "stdout",
     "output_type": "stream",
     "text": [
      "Índice 0: manzana\n",
      "Índice 1: banana\n",
      "Índice 2: cereza\n",
      "Índice 3: durazno\n"
     ]
    }
   ],
   "source": [
    "for indice, fruta in enumerate(frutas):\n",
    "    print(f\"Índice {indice}: {fruta}\")"
   ]
  },
  {
   "cell_type": "markdown",
   "metadata": {},
   "source": [
    "Este bucle for utiliza ```enumerate(frutas)```, que devuelve pares de índice y valor para cada elemento en la lista frutas. Dentro del bucle, indice es el índice actual y fruta es el valor. Esto te permite acceder fácilmente a ambos en cada iteración del bucle.\n",
    "\n",
    "**De hecho hay un TikTok que lo explica**\n",
    "[➡️DALE CLIC AQUÍ PARA VERLO⬅️]()\n",
    "\n",
    "| [⬅️ Día 3 ](/dias/dia3-comprensiones-listas.md) | Con 💖 por [@brujeriatech](https://www.instagram.com/brujeriatech/) | [Día 5 ➡️](/dias/dia5-enumerate.md)|\n",
    "|:------------- |:---------------:| -------------:|"
   ]
  }
 ],
 "metadata": {
  "kernelspec": {
   "display_name": "Python 3",
   "language": "python",
   "name": "python3"
  },
  "language_info": {
   "codemirror_mode": {
    "name": "ipython",
    "version": 3
   },
   "file_extension": ".py",
   "mimetype": "text/x-python",
   "name": "python",
   "nbconvert_exporter": "python",
   "pygments_lexer": "ipython3",
   "version": "3.11.2"
  }
 },
 "nbformat": 4,
 "nbformat_minor": 2
}
