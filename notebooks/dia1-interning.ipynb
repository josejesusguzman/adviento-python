{
 "cells": [
  {
   "cell_type": "markdown",
   "metadata": {},
   "source": [
    "# Interning\n",
    "## Día 1\n",
    "\n",
    "Para mejorar la eficiencia y la gestión de memoria, Python preasigna ciertos objetos inmutables como pequeñas cadenas de caracteres y números enteros dentro de un rango específico. \n",
    "Esto significa que cada vez que creas una variable con el mismo valor pequeño (por ejemplo, un entero entre -5 y 256), Python en realidad no crea un nuevo objeto, sino que referencia al objeto ya existente. \n",
    "\n",
    "Este comportamiento es especialmente notable con las cadenas y los enteros, donde múltiples referencias pueden apuntar al mismo objeto en memoria si sus valores son idénticos y están dentro del rango predefinido.\n"
   ]
  },
  {
   "cell_type": "code",
   "execution_count": 9,
   "metadata": {},
   "outputs": [],
   "source": [
    "# Enteros\n",
    "a = 256\n",
    "b = 256"
   ]
  },
  {
   "cell_type": "code",
   "execution_count": 10,
   "metadata": {},
   "outputs": [],
   "source": [
    "#Cadenas\n",
    "s1 = \"Hola\"\n",
    "s2 = \"Hola\""
   ]
  },
  {
   "cell_type": "code",
   "execution_count": 11,
   "metadata": {},
   "outputs": [],
   "source": [
    "# Se comprueba si las variables referencian al mismo objeto en memoria\n",
    "internado_enteros = a is b\n",
    "internado_cadenas = s1 is s2"
   ]
  },
  {
   "cell_type": "code",
   "execution_count": 12,
   "metadata": {},
   "outputs": [
    {
     "name": "stdout",
     "output_type": "stream",
     "text": [
      "True True\n"
     ]
    }
   ],
   "source": [
    "#Ambos resultados son True porque se cumple con el interning\n",
    "\n",
    "print(internado_enteros, internado_cadenas)"
   ]
  },
  {
   "cell_type": "markdown",
   "metadata": {},
   "source": [
    "**De hecho hay un TikTok que lo explica**\n",
    "[➡️DALE CLIC AQUÍ PARA VERLO⬅️]()\n",
    "\n",
    "| [⬅️ Ir al inicio ](/README.md) | Con 💖 por [@brujeriatech](https://www.instagram.com/brujeriatech/) | [Día 2 ➡️](/dias/dia2-lista_recursiva.md)|\n",
    "|:------------- |:---------------:| -------------:|"
   ]
  }
 ],
 "metadata": {
  "kernelspec": {
   "display_name": "Python 3",
   "language": "python",
   "name": "python3"
  },
  "language_info": {
   "codemirror_mode": {
    "name": "ipython",
    "version": 3
   },
   "file_extension": ".py",
   "mimetype": "text/x-python",
   "name": "python",
   "nbconvert_exporter": "python",
   "pygments_lexer": "ipython3",
   "version": "3.11.2"
  }
 },
 "nbformat": 4,
 "nbformat_minor": 2
}
