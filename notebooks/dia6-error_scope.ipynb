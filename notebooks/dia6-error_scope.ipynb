{
 "cells": [
  {
   "cell_type": "markdown",
   "metadata": {},
   "source": [
    "# Error común al usar los scopes\n",
    "## Día 6\n",
    "\n",
    "Un error común entre los programadores de Python, especialmente los principiantes, es el \"error de la variable ```global``` y ```local``` con el mismo nombre\". Esto ocurre cuando una variable ```global``` y una variable ```local``` dentro de una función tienen el mismo nombre, lo que puede llevar a comportamientos confusos y errores difíciles de rastrear.\n",
    "\n",
    "**Python trata las variables definidas dentro de una función como locales**, a menos que se especifique explícitamente lo contrario. Si una variable dentro de una función tiene el mismo nombre que una variable ```global```, la variable ```local``` ocultará a la global dentro del ámbito de la función. Esto puede causar errores si la función intenta modificar la variable global sin declararla como tal."
   ]
  },
  {
   "cell_type": "code",
   "execution_count": 2,
   "metadata": {},
   "outputs": [
    {
     "data": {
      "text/plain": [
       "\"cannot access local variable 'contador' where it is not associated with a value\""
      ]
     },
     "execution_count": 2,
     "metadata": {},
     "output_type": "execute_result"
    }
   ],
   "source": [
    "# Variable global\n",
    "contador = 0\n",
    "\n",
    "# Función que intenta modificar la variable global sin usar 'global' (método incorrecto)\n",
    "def incrementar_incorrecto():\n",
    "    try:\n",
    "        contador += 1  # Esto causará un error\n",
    "    except UnboundLocalError as e:\n",
    "        return str(e)\n",
    "\n",
    "# Llamando a la función incorrecta y capturando el error\n",
    "error_incorrecto = incrementar_incorrecto()\n",
    "\n",
    "# Esto nos arrojará una excepción porque Python no tiene acceso a la variable contador\n",
    "error_incorrecto\n"
   ]
  },
  {
   "cell_type": "code",
   "execution_count": 6,
   "metadata": {},
   "outputs": [
    {
     "name": "stdout",
     "output_type": "stream",
     "text": [
      "1\n",
      "2\n"
     ]
    }
   ],
   "source": [
    "# Restableciendo la variable global\n",
    "contador = 0\n",
    "\n",
    "# Función que modifica correctamente la variable global usando 'global' (método correcto)\n",
    "def incrementar_correcto():\n",
    "    global contador\n",
    "    contador += 1\n",
    "\n",
    "# Llamando a la función correcta\n",
    "incrementar_correcto()\n",
    "resultado_correcto = contador\n",
    "\n",
    "print(resultado_correcto)\n",
    "\n",
    "# Llamando de nuevo a la función correcta\n",
    "incrementar_correcto()\n",
    "resultado_correcto = contador\n",
    "\n",
    "print(resultado_correcto)"
   ]
  },
  {
   "cell_type": "markdown",
   "metadata": {},
   "source": [
    "### Método Incorrecto (Sin usar global):\n",
    "\n",
    "- En la función ```incrementar_incorrecto()```, intentamos incrementar la variable global contador sin declararla como global\n",
    "- Esto resulta en un error: ```local variable 'contador' referenced before assignment```. Este error ocurre porque Python asume que contador en la función es una variable local, dado que estamos intentando asignarle un valor. Como aún no está asignada en el ámbito local, se produce un error.\n",
    "\n",
    "\n",
    "### Método Correcto (Usando global):\n",
    "\n",
    "- En la función ```incrementar_correcto()```, declaramos contador como una variable global antes de modificarla.\n",
    "  \n",
    "- Al hacer esto, le decimos a Python que use la variable global contador en lugar de crear una nueva variable local con el mismo nombre.\n",
    "- La función incrementa correctamente el valor de la variable global contador, y el ```resultado_correcto``` es 1.\n",
    "\n",
    "\n",
    "**De hecho hay un TikTok que lo explica**\n",
    "[➡️DALE CLIC AQUÍ PARA VERLO⬅️]()\n",
    "\n",
    "| [⬅️ Día 5 ](/dias/dia5-enumerate.md) | Con 💖 por [@brujeriatech](https://www.instagram.com/brujeriatech/) | [Día 7 ➡️]()|\n",
    "|:------------- |:---------------:| -------------:|"
   ]
  }
 ],
 "metadata": {
  "kernelspec": {
   "display_name": "Python 3",
   "language": "python",
   "name": "python3"
  },
  "language_info": {
   "codemirror_mode": {
    "name": "ipython",
    "version": 3
   },
   "file_extension": ".py",
   "mimetype": "text/x-python",
   "name": "python",
   "nbconvert_exporter": "python",
   "pygments_lexer": "ipython3",
   "version": "3.11.2"
  }
 },
 "nbformat": 4,
 "nbformat_minor": 2
}
