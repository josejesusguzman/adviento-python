{
 "cells": [
  {
   "cell_type": "markdown",
   "metadata": {},
   "source": [
    "# Itertools\n",
    "## Día 4\n",
    "\n",
    "**itertools** proporciona una serie de herramientas para la manipulación eficiente de iterables, que pueden hacer tu código más limpio, más rápido y más Pythonic.\n",
    "\n",
    "Vamos a ver un ejemplo práctico utilizando **itertools**. Supongamos que quieres generar todas las combinaciones posibles de tres elementos a partir de una lista. Podrías hacer esto manualmente con bucles anidados, pero es más eficiente y legible utilizar **itertools**.combinations."
   ]
  },
  {
   "cell_type": "code",
   "execution_count": 4,
   "metadata": {},
   "outputs": [],
   "source": [
    "# Primero tenemos que importar la biblioteca\n",
    "import itertools"
   ]
  },
  {
   "cell_type": "code",
   "execution_count": 5,
   "metadata": {},
   "outputs": [],
   "source": [
    "# Declaramos una lista de elementos\n",
    "elementos = ['a', 'b', 'c', 'd']"
   ]
  },
  {
   "cell_type": "markdown",
   "metadata": {},
   "source": [
    "Generamos todas las combinaciones posibles de tres elementos.\n",
    "\n",
    "```itertools.combinations()``` nos solicita 2 argumentos; un ```iterable``` que es la lista u objeto del cual generaremos las combinaciones y un valor ```r``` que es la longitud de elementos de las subsecuencias generadas.\n",
    "\n",
    "En este ejemplo la función nos generará 4 tuplas con ```r=3``` elementos en cada una de ellas. "
   ]
  },
  {
   "cell_type": "code",
   "execution_count": 6,
   "metadata": {},
   "outputs": [
    {
     "name": "stdout",
     "output_type": "stream",
     "text": [
      "[('a', 'b', 'c'), ('a', 'b', 'd'), ('a', 'c', 'd'), ('b', 'c', 'd')]\n"
     ]
    }
   ],
   "source": [
    "combinaciones = list(itertools.combinations(elementos, 3))\n",
    "\n",
    "print(combinaciones)"
   ]
  },
  {
   "cell_type": "markdown",
   "metadata": {},
   "source": [
    "**De hecho hay un TikTok que lo explica**\n",
    "[➡️DALE CLIC AQUÍ PARA VERLO⬅️](https://vm.tiktok.com/ZM6N8L42R/)\n",
    "\n",
    "| [⬅️ Día 3 ](/dias/dia3-comprensiones-listas.md) | Con 💖 por [@brujeriatech](https://www.instagram.com/brujeriatech/) | [Día 5 ➡️](/dias/dia5-enumerate.md)|\n",
    "|:------------- |:---------------:| -------------:|"
   ]
  }
 ],
 "metadata": {
  "kernelspec": {
   "display_name": "Python 3",
   "language": "python",
   "name": "python3"
  },
  "language_info": {
   "codemirror_mode": {
    "name": "ipython",
    "version": 3
   },
   "file_extension": ".py",
   "mimetype": "text/x-python",
   "name": "python",
   "nbconvert_exporter": "python",
   "pygments_lexer": "ipython3",
   "version": "3.11.2"
  }
 },
 "nbformat": 4,
 "nbformat_minor": 2
}
