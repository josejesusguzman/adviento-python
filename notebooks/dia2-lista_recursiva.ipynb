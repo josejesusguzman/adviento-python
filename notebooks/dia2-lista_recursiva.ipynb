{
 "cells": [
  {
   "cell_type": "markdown",
   "metadata": {},
   "source": [
    "# Lista recursiva\n",
    "## Día 2\n",
    "\n",
    "Una curiosidad poco conocida sobre las listas en Python es su capacidad para contener referencias a sí mismas, lo que se conoce como una **lista recursiva**. Esto significa que una lista puede contener una referencia a sí misma como uno de sus elementos. Esto se debe a que las listas en Python son objetos dinámicos y pueden almacenar cualquier tipo de dato, incluidas referencias a otros objetos, incluso a ellas mismas.\n"
   ]
  },
  {
   "cell_type": "code",
   "execution_count": 1,
   "metadata": {},
   "outputs": [],
   "source": [
    "# Primero definimos una lista\n",
    "lista_recursiva = [1, 2, 3]"
   ]
  },
  {
   "cell_type": "code",
   "execution_count": 2,
   "metadata": {},
   "outputs": [],
   "source": [
    "# Después con la función append podemos agregar al final de la lista a la misma lista\n",
    "lista_recursiva.append(lista_recursiva)"
   ]
  },
  {
   "cell_type": "markdown",
   "metadata": {},
   "source": [
    "Si la imprimimos, el resultado es una lista con cuatro elementos siendo el cuarto una referencia a la misma lista\n",
    "Python no vielve a almacenar la lista sino la referencia de memoria de la lista."
   ]
  },
  {
   "cell_type": "code",
   "execution_count": 3,
   "metadata": {},
   "outputs": [
    {
     "name": "stdout",
     "output_type": "stream",
     "text": [
      "[1, 2, 3, [...]]\n"
     ]
    }
   ],
   "source": [
    "print(lista_recursiva)"
   ]
  },
  {
   "cell_type": "markdown",
   "metadata": {},
   "source": [
    "Si imprimimos el cuarto elemento de la lista nos daremos cuenta que el resultado es el mismo ya que estamos desplegandola desde su referencia de memoria."
   ]
  },
  {
   "cell_type": "code",
   "execution_count": 4,
   "metadata": {},
   "outputs": [
    {
     "name": "stdout",
     "output_type": "stream",
     "text": [
      "[1, 2, 3, [...]]\n"
     ]
    }
   ],
   "source": [
    "print(lista_recursiva[3])"
   ]
  },
  {
   "cell_type": "markdown",
   "metadata": {},
   "source": [
    "**De hecho hay un TikTok que lo explica**\n",
    "[➡️DALE CLIC AQUÍ PARA VERLO⬅️](https://vm.tiktok.com/ZM68gCCFV/)\n",
    "\n",
    "| [⬅️ Día 1 ](/dias/dia1-interning.md) | Con 💖 por [@brujeriatech](https://www.instagram.com/brujeriatech/) | [Día 3 ➡️](/dias/dia3-comprensiones-listas.md)|\n",
    "|:------------- |:---------------:| -------------:|"
   ]
  }
 ],
 "metadata": {
  "kernelspec": {
   "display_name": "Python 3",
   "language": "python",
   "name": "python3"
  },
  "language_info": {
   "codemirror_mode": {
    "name": "ipython",
    "version": 3
   },
   "file_extension": ".py",
   "mimetype": "text/x-python",
   "name": "python",
   "nbconvert_exporter": "python",
   "pygments_lexer": "ipython3",
   "version": "3.11.2"
  }
 },
 "nbformat": 4,
 "nbformat_minor": 2
}
